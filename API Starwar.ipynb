{
 "cells":[
  {
   "cell_type":"markdown",
   "source":[
    "# HW2"
   ],
   "attachments":{
    
   },
   "metadata":{
    "datalore":{
     "node_id":"HW2",
     "type":"MD",
     "hide_input_from_viewers":false,
     "hide_output_from_viewers":false,
     "sheet_delimiter":true
    }
   }
  },
  {
   "cell_type":"markdown",
   "source":[
    "# API Starwars"
   ],
   "attachments":{
    
   },
   "metadata":{
    "datalore":{
     "node_id":"ZYhyiEe5pjpIXSd7X1IWR4",
     "type":"MD",
     "hide_input_from_viewers":false,
     "hide_output_from_viewers":false,
     "report_properties":{
      "rowId":"jE5X0ZxPnhBPFVzB2LNwPH"
     }
    }
   }
  },
  {
   "cell_type":"code",
   "source":[
    "import requests\n",
    "import pandas as pd\n",
    "\n",
    "Starwar_data = {}\n",
    "Starwar_col  = list(resp.json().keys())\n",
    "for i in Starwar_col:\n",
    "    Starwar_data[i]=[]\n",
    "url = \"https:\/\/swapi.dev\/api\/people\/\"\n",
    "for i in range(15):\n",
    "    index = i+1\n",
    "    new_url = f\"{url}{index}\"\n",
    "    resp = requests.get(new_url)\n",
    "    for j in list(Starwar_data.keys()):\n",
    "        Starwar_data[j].append(resp.json()[j])\n",
    "\n",
    "Starwar_df = pd.DataFrame(Starwar_data);Starwar_df"
   ],
   "execution_count":1,
   "outputs":[
    
   ],
   "metadata":{
    "datalore":{
     "node_id":"NEssaQ97ta1Jn0YfDxQIi8",
     "type":"CODE",
     "hide_input_from_viewers":false,
     "hide_output_from_viewers":false,
     "report_properties":{
      "rowId":"VUEXhKEsvTJXDpxaUGIh6O"
     }
    }
   }
  },
  {
   "cell_type":"code",
   "source":[
    "for i in range(len(Starwar_df)):\n",
    "    url = Starwar_df[\"homeworld\"][i]\n",
    "    Starwar_df[\"homeworld\"][i] = requests.get(url).json()[\"name\"]\n",
    "Starwar_df[\"homeworld\"]"
   ],
   "execution_count":106,
   "outputs":[
    
   ],
   "metadata":{
    "datalore":{
     "node_id":"69UKNNChmCeuG2hX9O1aw2",
     "type":"CODE",
     "hide_input_from_viewers":false,
     "hide_output_from_viewers":false,
     "report_properties":{
      "rowId":"xFmyjbhgatXqEHgr4aF3y6"
     }
    }
   }
  },
  {
   "cell_type":"code",
   "source":[
    "for i in range(len(Starwar_df)):\n",
    "    url = Starwar_df[\"films\"][i]\n",
    "    Starwar_df[\"films\"][i] = [requests.get(j).json()[\"title\"] for j in url]\n",
    "Starwar_df[\"films\"]"
   ],
   "execution_count":107,
   "outputs":[
    
   ],
   "metadata":{
    "datalore":{
     "node_id":"dQMACW7M6GuaXX3IPPjsfT",
     "type":"CODE",
     "hide_input_from_viewers":false,
     "hide_output_from_viewers":false,
     "report_properties":{
      "rowId":"4X9mC6SfP5LMyMXnoliBPP"
     }
    }
   }
  },
  {
   "cell_type":"code",
   "source":[
    "Starwar_col2 = [\"species\",\"vehicles\",\"starships\"]\n",
    "for i in range(len(Starwar_df)):\n",
    "    for j in Starwar_col2:\n",
    "        url = Starwar_df[j][i]\n",
    "        Starwar_df[j][i] = [requests.get(j).json()[\"name\"] for j in url]\n",
    "Starwar_df[Starwar_col2]"
   ],
   "execution_count":108,
   "outputs":[
    
   ],
   "metadata":{
    "datalore":{
     "node_id":"s2gTn4sVCRRI4nlCkGdcX6",
     "type":"CODE",
     "hide_input_from_viewers":false,
     "hide_output_from_viewers":false,
     "report_properties":{
      "rowId":"tvJ6hk9DBiPyGwpusJ5nt0"
     }
    }
   }
  },
  {
   "cell_type":"code",
   "source":[
    "Starwar_df = Starwar_df.drop([\"url\"],axis=1)\n",
    "Starwar_df"
   ],
   "execution_count":109,
   "outputs":[
    
   ],
   "metadata":{
    "datalore":{
     "node_id":"CX8hRd1F8iANbZyqIXonm8",
     "type":"CODE",
     "hide_input_from_viewers":false,
     "hide_output_from_viewers":false,
     "report_properties":{
      "rowId":"NVzJ5CBT2rvaS6u3kX27st"
     }
    }
   }
  },
  {
   "cell_type":"markdown",
   "source":[
    "#"
   ],
   "attachments":{
    
   },
   "metadata":{
    "datalore":{
     "node_id":"47GhuDcA8OLYw3XLh75NXM",
     "type":"MD",
     "hide_input_from_viewers":false,
     "hide_output_from_viewers":false,
     "report_properties":{
      "rowId":"xa7EdOC2iD2WHrH7XkTLxR"
     }
    }
   }
  }
 ],
 "metadata":{
  "kernelspec":{
   "display_name":"Python",
   "language":"python",
   "name":"python"
  },
  "datalore":{
   "computation_mode":"JUPYTER",
   "package_manager":"pip",
   "base_environment":"default",
   "packages":[
    {
     "name":"openpyxl",
     "version":"3.2.0b1",
     "source":"PIP"
    },
    {
     "name":"resp",
     "version":"0.1.2",
     "source":"PIP"
    },
    {
     "name":"requests",
     "version":"2.31.0",
     "source":"PIP"
    }
   ],
   "report_row_ids":[
    "p3711eMkGsHEbJbZh8FrQ3",
    "1GtB1IAFCYlVnTjSBU1XkR",
    "uzaCICxHw52L5f1gmoLw37",
    "TeslnztjbSFMBPX4LklcLr",
    "F94ZuJp6FQqCgRDo6kpv60",
    "ZhJqsRuQMhtstO3GHXMC5c",
    "t0bUToFrLCBeYh2QkeqR02",
    "d1ArXOH1uvUjbEvgSqe8nW",
    "fEsviU9zP0lQYmo6NSkWVM",
    "aj6hne9POibFYcZcd6wM59",
    "CO2KgL1BeN2Cr7wbXxmQtB",
    "Gwk9rgHPOw9UMp72jxCARY",
    "TQC1f0pNjD1z5b80KaoLoL",
    "Um5p0wCNbBkLCXcUiEPREC",
    "FNitlgwiUYqRGU2Hw8xx2R",
    "iSfwfZrTuJlexDE13dFAwQ",
    "s7x6kvJvTi8rUKyRh6ebst",
    "q3B4XWivm5ohfkEquqFXgI",
    "1vRAL1WK14F5AZudzeyY0f",
    "55m6BknpXifwUyMZWkdYh2",
    "BjpAVtzXNR096bIV1oiB5N",
    "nGOFG8jzNhHENKs3Yiy2AX",
    "tSqTHoW5hy39gZbviia7K2",
    "x06yAsVzf1tiHHHyLnxrTI",
    "Z3niRubJHjO1cM5Nbq8YYY",
    "nKRwM0fKHY6TDKaOurnHPi",
    "SNLEI0APET4t789uawOd4a",
    "UCsvTmBTrRBjHwM1b2TBp2",
    "g7jiBwTI5jacPT8twXH1Ga",
    "HBgbE5NU2H7wr57INu6q5z",
    "L0Q4yGB46or2gzTj41CB2V",
    "pA8Unr47gDEgOvzCeTmaom",
    "widVVb0aF8LTMR6B6AYBul",
    "FjFFxzlVqn6tXtkNravXTm",
    "CDsxLiwh7zDGmpGcFlavt5",
    "bd9CAOQN9rvYNUMrifZC29",
    "mezT8m32jlnjsQN9rQX0sN",
    "rEV3Hjytqh2MOIW86bkLgq",
    "kP5AiWItsk5MCa4dYc6mJU",
    "7EAx48uLRSydQoeWhvRMMh",
    "KC6ZNBCYcLaukureaJOQsw",
    "IyWGVrKKHdDgn0wxfTXtkH",
    "CQdtUz1fGjaUuQJ3uoB4No",
    "ipm51ShfquJl9Fp7lPr2YM",
    "c2S8wfZlv6OMelWrU4TBag",
    "k5T2lXMg2c05gUVfY6oOgH",
    "vsEvNkcqbIssAQjHFuG9FW",
    "GwJ6iIjXQKuCkMPyhnWJJP",
    "ekXwVCfP5mDkeBXEzTBp6H",
    "LKjIWHM6Qb8M8FR6MrRY5T",
    "mm8rvBqEA7h4asow9jPZR7",
    "SgyCDDEtoy3M6Ap1VG1t8y",
    "m1cqebljsNzZSedXdg11AO",
    "IxWQPwwb5cxmUDLxVbPjk5",
    "i0fE1l8hpzn7QUeXOUCPHh",
    "xIbtkdLYqDUWykMKpmmzBe",
    "Kg6JnrsB62h3Ptl5BlDcbv",
    "ykLL1nX4Z94DtWxfmJQbJH",
    "RKo3ypCBucaH2Zb3oSE58Y",
    "f7QtvzNiIkNtjPOdQHpx0V",
    "de5ypyOwLHE3gP1ksQRAc2",
    "UU2Tpjp3poadDLAUy78D3f",
    "68xEyNTOc4LELWNhs3UYP1",
    "AnnExc9JGG4G1J9Uc6KgR6",
    "MEOYbAnPfntRoQPxmfLRtY",
    "w07sa18srGr9FediDyleaE",
    "YJ0rVqVxLqSi1VXTVzEWHP",
    "Ljxb66yHErWaGr1URAvCDu",
    "t4QGUuzYFqWoWv2Fmr4V1m",
    "IfENyT0FluncOZTSk05OTs",
    "4bJuhgZrFPnwiWKvYkdiZC",
    "FykLyK11h7BatrT2LYghhC",
    "8vIsi9imbigj2uaUDzhGDg",
    "FPTyJXoL3HwhZ703of2jRg",
    "8Hywb7UUIK6vWv6mihnzAn",
    "RkU6w4cv4BDsfVmUrTDfqZ",
    "8astwYSPSKkuV4nDZr1bte",
    "oDbkylKQgbbPbcUQsrsQZ2",
    "jTxEaEt3i4QQbKcmowWCEH",
    "wRGxy8joPkARlP4TKVbbAK",
    "wPvZvrSIw1gOiNm9S01jHP",
    "Iq29qFfM9k9ONFa6q2ks0n",
    "YxkStMmpUe4ehcey4f52s0",
    "ERLm2njwm3X0zQsxjz0LEc",
    "jHDBUSjJCZKqhxiXF4UiVi",
    "HlDJMg6oLVBhF5Wqwy5fw3",
    "DxehmwNEh1nDDqYzwHmIzp",
    "BSsdYFU3ZOyGnuCxBpukXn",
    "Lra02KYmIg4tIlPD7iCgrR",
    "Gwx8UqdSmgqieOAxmRXAb2",
    "CZydVUUbeifi15zkxzHrsm",
    "cq6XBZLmZDDHPRUbv8QbuZ",
    "vjZi6QO7Ejmz02iXp4PNgb",
    "CpzvLdShIlWFm47lSXpi7L",
    "IkuUxOzb6es2ox13FDfy3A",
    "6I0zC3QvPKIJ0KzCut2QzW",
    "olm8a9a8uKrVyka53Sy62x",
    "WuukdH33OJN1M92oLgWvXR",
    "yyO42y9DkqrbIKRWg1qO0S",
    "vfUHwV6dwO5EY3hqRpSeYx",
    "YYQxUZBfgiy9clrHzYzYUz",
    "an5g4Dgt1x19Sc5zxGtmtd",
    "Ddg4hk3YMljpaVKk3ZxiV9",
    "1MdKjFo1PrA7wzV6WHWxDO",
    "QwGEwKI40Boxh3KomPL0Hi",
    "krP2pcrm6lr9jsyOP3xftB",
    "Fli1DY7yjdWfGkOtuoefeH",
    "llSqOgxMWyCGAu2pWjHI4f",
    "n6f55tFU64Q0z1UL2FYoYh",
    "PWCKeParSJ2iVtyMXjgXug",
    "po1etyGdx073PKVfRChuok",
    "OcjMPGlW6RgU541kllmuQt",
    "O4vTXexQfJQOWlfu4OLIpp",
    "R872Y0PAT8cBf0hUA1q5XA",
    "ibW2EEuxkvj0q5ZeJ9V4BG",
    "jE5X0ZxPnhBPFVzB2LNwPH",
    "VUEXhKEsvTJXDpxaUGIh6O",
    "xFmyjbhgatXqEHgr4aF3y6",
    "4X9mC6SfP5LMyMXnoliBPP",
    "tvJ6hk9DBiPyGwpusJ5nt0",
    "NVzJ5CBT2rvaS6u3kX27st",
    "xa7EdOC2iD2WHrH7XkTLxR"
   ],
   "version":3
  }
 },
 "nbformat":4,
 "nbformat_minor":4
}